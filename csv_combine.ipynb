{
 "cells": [
  {
   "cell_type": "code",
   "execution_count": 21,
   "metadata": {},
   "outputs": [
    {
     "name": "stdout",
     "output_type": "stream",
     "text": [
      "                 IncidentFromTime IncidentToDate IncidentToTime  \\\n",
      "IncidentFromDate                                                  \n",
      "1/1/10                    1:55:00         1/1/10        2:58:00   \n",
      "1/1/10                    1:36:00            NaN            NaN   \n",
      "1/1/10                    2:00:00         1/1/10        4:00:00   \n",
      "1/2/10                    6:15:00            NaN            NaN   \n",
      "1/3/10                    1:29:00            NaN            NaN   \n",
      "\n",
      "                      Offense Description      CaseStatus  \\\n",
      "IncidentFromDate                                            \n",
      "1/1/10             Miscellaneous Offenses  Closed/Cleared   \n",
      "1/1/10             Miscellaneous Offenses  Closed/Cleared   \n",
      "1/1/10            Larceny – From Building        Inactive   \n",
      "1/2/10             Miscellaneous Offenses  Closed/Cleared   \n",
      "1/3/10             Miscellaneous Offenses  Closed/Cleared   \n",
      "\n",
      "                       CaseDisposition LocationCode PatrolZone  \\\n",
      "IncidentFromDate                                                 \n",
      "1/1/10                             NaN     ONCAMRES         Z1   \n",
      "1/1/10                             NaN       NONCAM         Z4   \n",
      "1/1/10                             NaN       NONCAM         Z2   \n",
      "1/2/10                             NaN        ONCAM         Z2   \n",
      "1/3/10            Prosecution Declined          PUB         Z4   \n",
      "\n",
      "                                                   LocationLandmark  \\\n",
      "IncidentFromDate                                                      \n",
      "1/1/10                     Center Street Apartments North   132  Z1   \n",
      "1/1/10                                                          NaN   \n",
      "1/1/10                               Sigma Nu Fraternity   325   Z2   \n",
      "1/2/10                                      North Avenue Apartments   \n",
      "1/3/10            Marietta Street, NW b/w Northside Drive, NW & ...   \n",
      "\n",
      "                       LocationStreet LocationLatitude LocationLongitude  \\\n",
      "IncidentFromDate                                                           \n",
      "1/1/10            Hemphill Avenue, NW              NaN               NaN   \n",
      "1/1/10                            NaN              NaN               NaN   \n",
      "1/1/10              Fowler Street, NW              NaN               NaN   \n",
      "1/2/10               North Avenue, NW              NaN               NaN   \n",
      "1/3/10                            NaN              NaN               NaN   \n",
      "\n",
      "                  Unnamed: 17  \n",
      "IncidentFromDate               \n",
      "1/1/10                    NaN  \n",
      "1/1/10                    NaN  \n",
      "1/1/10                    NaN  \n",
      "1/2/10                    NaN  \n",
      "1/3/10                    NaN  \n"
     ]
    }
   ],
   "source": [
    "import pandas as pd\n",
    "\n",
    "# combine csvs into one.\n",
    "\n",
    "df = pd.read_csv('Merged.csv', index_col=0)\n",
    "df = df.drop(['OffenseCode', 'LocationStreetNumber', 'LocationDirectional', 'CreatedSource'], axis=1)\n",
    "print(df.head())    # print first 5 rows to check stuff\n",
    "\n",
    "\n"
   ]
  }
 ],
 "metadata": {
  "interpreter": {
   "hash": "f5f61564bdc7f53415b2b505550c56a4073778d531a25cde85da04c84ebb0b38"
  },
  "kernelspec": {
   "display_name": "Python 3.9.7 64-bit ('base': conda)",
   "language": "python",
   "name": "python3"
  },
  "language_info": {
   "codemirror_mode": {
    "name": "ipython",
    "version": 3
   },
   "file_extension": ".py",
   "mimetype": "text/x-python",
   "name": "python",
   "nbconvert_exporter": "python",
   "pygments_lexer": "ipython3",
   "version": "3.9.7"
  },
  "orig_nbformat": 4
 },
 "nbformat": 4,
 "nbformat_minor": 2
}
